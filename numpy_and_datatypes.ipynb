{
  "nbformat": 4,
  "nbformat_minor": 0,
  "metadata": {
    "colab": {
      "provenance": []
    },
    "kernelspec": {
      "name": "python3",
      "display_name": "Python 3"
    },
    "language_info": {
      "name": "python"
    }
  },
  "cells": [
    {
      "cell_type": "markdown",
      "source": [
        "PYTHON NUMPY"
      ],
      "metadata": {
        "id": "3aC4lXF8DRhF"
      }
    },
    {
      "cell_type": "code",
      "source": [
        "!pip install numpy"
      ],
      "metadata": {
        "colab": {
          "base_uri": "https://localhost:8080/"
        },
        "id": "6vb8WFacDWAm",
        "outputId": "10c823f0-c8a9-4169-d8ff-a5def7c79e9f"
      },
      "execution_count": 1,
      "outputs": [
        {
          "output_type": "stream",
          "name": "stdout",
          "text": [
            "Requirement already satisfied: numpy in /usr/local/lib/python3.11/dist-packages (1.26.4)\n"
          ]
        }
      ]
    },
    {
      "cell_type": "code",
      "source": [
        "import numpy as np"
      ],
      "metadata": {
        "id": "6wZw2qC5Djed"
      },
      "execution_count": 2,
      "outputs": []
    },
    {
      "cell_type": "code",
      "source": [
        "import numpy as np\n",
        "import numpy as np\n",
        "a = np.array([1,2,3])\n",
        "b = np.array([[1,2,3],[1,2,3]])\n",
        "c = np.array([[[3,4,5],[3,4,5],[4,5,6]],[[3,4,5],[3,4,5],[4,5,6]]])\n",
        "print(a)"
      ],
      "metadata": {
        "colab": {
          "base_uri": "https://localhost:8080/"
        },
        "id": "MkYdDUa_DsG9",
        "outputId": "790b7a5e-c751-43fc-c736-8d67ac6695aa"
      },
      "execution_count": 7,
      "outputs": [
        {
          "output_type": "stream",
          "name": "stdout",
          "text": [
            "[1 2 3]\n"
          ]
        }
      ]
    },
    {
      "cell_type": "code",
      "source": [
        "print(b)"
      ],
      "metadata": {
        "colab": {
          "base_uri": "https://localhost:8080/"
        },
        "id": "QfHSw3udElac",
        "outputId": "82ad5a71-2107-4932-9f40-b928d3c22030"
      },
      "execution_count": 8,
      "outputs": [
        {
          "output_type": "stream",
          "name": "stdout",
          "text": [
            "[[1 2 3]\n",
            " [1 2 3]]\n"
          ]
        }
      ]
    },
    {
      "cell_type": "code",
      "source": [
        "print(c)"
      ],
      "metadata": {
        "colab": {
          "base_uri": "https://localhost:8080/"
        },
        "id": "jSgQze1yFY_G",
        "outputId": "7c692540-f35b-4fd5-84ba-e60fe818fe04"
      },
      "execution_count": 10,
      "outputs": [
        {
          "output_type": "stream",
          "name": "stdout",
          "text": [
            "[[[3 4 5]\n",
            "  [3 4 5]\n",
            "  [4 5 6]]\n",
            "\n",
            " [[3 4 5]\n",
            "  [3 4 5]\n",
            "  [4 5 6]]]\n"
          ]
        }
      ]
    },
    {
      "cell_type": "markdown",
      "source": [
        "INITIAL PLACEHOLDERS"
      ],
      "metadata": {
        "id": "fgwfuvW-FleA"
      }
    },
    {
      "cell_type": "code",
      "source": [
        "# create an array of zeros"
      ],
      "metadata": {
        "id": "7W0EaQluFqDC"
      },
      "execution_count": 11,
      "outputs": []
    },
    {
      "cell_type": "code",
      "source": [
        "np.zeros((4,6))"
      ],
      "metadata": {
        "colab": {
          "base_uri": "https://localhost:8080/"
        },
        "id": "P_MnVy-JF5Gg",
        "outputId": "c18bae18-0a07-4f66-afa3-ae91a201b98f"
      },
      "execution_count": 12,
      "outputs": [
        {
          "output_type": "execute_result",
          "data": {
            "text/plain": [
              "array([[0., 0., 0., 0., 0., 0.],\n",
              "       [0., 0., 0., 0., 0., 0.],\n",
              "       [0., 0., 0., 0., 0., 0.],\n",
              "       [0., 0., 0., 0., 0., 0.]])"
            ]
          },
          "metadata": {},
          "execution_count": 12
        }
      ]
    },
    {
      "cell_type": "code",
      "source": [
        "# create an array of ones"
      ],
      "metadata": {
        "id": "-_YzpiPNGlxt"
      },
      "execution_count": 15,
      "outputs": []
    },
    {
      "cell_type": "code",
      "source": [
        "np.ones((3,3,4))"
      ],
      "metadata": {
        "colab": {
          "base_uri": "https://localhost:8080/"
        },
        "id": "YeDZUf7gGOMP",
        "outputId": "363749a3-fe26-4428-d51f-f096be369772"
      },
      "execution_count": 13,
      "outputs": [
        {
          "output_type": "execute_result",
          "data": {
            "text/plain": [
              "array([[[1., 1., 1., 1.],\n",
              "        [1., 1., 1., 1.],\n",
              "        [1., 1., 1., 1.]],\n",
              "\n",
              "       [[1., 1., 1., 1.],\n",
              "        [1., 1., 1., 1.],\n",
              "        [1., 1., 1., 1.]],\n",
              "\n",
              "       [[1., 1., 1., 1.],\n",
              "        [1., 1., 1., 1.],\n",
              "        [1., 1., 1., 1.]]])"
            ]
          },
          "metadata": {},
          "execution_count": 13
        }
      ]
    },
    {
      "cell_type": "code",
      "source": [
        "# create an array of evenly space values:"
      ],
      "metadata": {
        "id": "JHRp-aOtGeAi"
      },
      "execution_count": 16,
      "outputs": []
    },
    {
      "cell_type": "code",
      "source": [
        "np.linspace(1,5,9)"
      ],
      "metadata": {
        "colab": {
          "base_uri": "https://localhost:8080/"
        },
        "id": "sNGWzcQXG1Tm",
        "outputId": "40c61804-99df-43dd-c377-2e5358a58df8"
      },
      "execution_count": 17,
      "outputs": [
        {
          "output_type": "execute_result",
          "data": {
            "text/plain": [
              "array([1. , 1.5, 2. , 2.5, 3. , 3.5, 4. , 4.5, 5. ])"
            ]
          },
          "metadata": {},
          "execution_count": 17
        }
      ]
    },
    {
      "cell_type": "code",
      "source": [
        "# create an constant array: create a 1D array"
      ],
      "metadata": {
        "id": "4aBh44feHDHS"
      },
      "execution_count": 18,
      "outputs": []
    },
    {
      "cell_type": "code",
      "source": [
        "e = np.full((2),7)\n",
        "print(e)\n",
        "print(\"dim\",e.ndim)"
      ],
      "metadata": {
        "colab": {
          "base_uri": "https://localhost:8080/"
        },
        "id": "oIJtQ1f2HMft",
        "outputId": "cdf316a4-ec06-436d-c979-ea4db70111d5"
      },
      "execution_count": 21,
      "outputs": [
        {
          "output_type": "stream",
          "name": "stdout",
          "text": [
            "[7 7]\n",
            "dim 1\n"
          ]
        }
      ]
    },
    {
      "cell_type": "code",
      "source": [
        "# create a 2D array"
      ],
      "metadata": {
        "id": "D0EfeXYZHoH8"
      },
      "execution_count": 20,
      "outputs": []
    },
    {
      "cell_type": "code",
      "source": [
        "e = np.full((4,5,7),6)\n",
        "print(e)\n",
        "print(\"dim\",e.ndim)"
      ],
      "metadata": {
        "colab": {
          "base_uri": "https://localhost:8080/"
        },
        "id": "HhZQi3O9Hu_9",
        "outputId": "0abb2720-6687-4b95-cbb3-548e48e7e553"
      },
      "execution_count": 23,
      "outputs": [
        {
          "output_type": "stream",
          "name": "stdout",
          "text": [
            "[[[6 6 6 6 6 6 6]\n",
            "  [6 6 6 6 6 6 6]\n",
            "  [6 6 6 6 6 6 6]\n",
            "  [6 6 6 6 6 6 6]\n",
            "  [6 6 6 6 6 6 6]]\n",
            "\n",
            " [[6 6 6 6 6 6 6]\n",
            "  [6 6 6 6 6 6 6]\n",
            "  [6 6 6 6 6 6 6]\n",
            "  [6 6 6 6 6 6 6]\n",
            "  [6 6 6 6 6 6 6]]\n",
            "\n",
            " [[6 6 6 6 6 6 6]\n",
            "  [6 6 6 6 6 6 6]\n",
            "  [6 6 6 6 6 6 6]\n",
            "  [6 6 6 6 6 6 6]\n",
            "  [6 6 6 6 6 6 6]]\n",
            "\n",
            " [[6 6 6 6 6 6 6]\n",
            "  [6 6 6 6 6 6 6]\n",
            "  [6 6 6 6 6 6 6]\n",
            "  [6 6 6 6 6 6 6]\n",
            "  [6 6 6 6 6 6 6]]]\n",
            "dim 3\n"
          ]
        }
      ]
    },
    {
      "cell_type": "code",
      "source": [
        "# create a 3D array"
      ],
      "metadata": {
        "id": "Uiy6INnOIEkn"
      },
      "execution_count": 24,
      "outputs": []
    },
    {
      "cell_type": "code",
      "source": [
        "e = np.full((2,4,6),5)\n",
        "print(e)\n",
        "print(\"dim\",e.ndim)"
      ],
      "metadata": {
        "colab": {
          "base_uri": "https://localhost:8080/"
        },
        "id": "ahuh9wiMITqb",
        "outputId": "600c5482-9698-4009-af3b-4337079ab0ae"
      },
      "execution_count": 25,
      "outputs": [
        {
          "output_type": "stream",
          "name": "stdout",
          "text": [
            "[[[5 5 5 5 5 5]\n",
            "  [5 5 5 5 5 5]\n",
            "  [5 5 5 5 5 5]\n",
            "  [5 5 5 5 5 5]]\n",
            "\n",
            " [[5 5 5 5 5 5]\n",
            "  [5 5 5 5 5 5]\n",
            "  [5 5 5 5 5 5]\n",
            "  [5 5 5 5 5 5]]]\n",
            "dim 3\n"
          ]
        }
      ]
    },
    {
      "cell_type": "code",
      "source": [
        "# create a 2x2 identity matrix"
      ],
      "metadata": {
        "id": "6lGkZ6r7Ir-J"
      },
      "execution_count": 26,
      "outputs": []
    },
    {
      "cell_type": "code",
      "source": [
        "f = np.eye(4)\n",
        "print(f)"
      ],
      "metadata": {
        "colab": {
          "base_uri": "https://localhost:8080/"
        },
        "id": "QTblhgFmI2Jw",
        "outputId": "6fbbb1e4-b5ed-4834-94e6-4ad0136e3aaa"
      },
      "execution_count": 28,
      "outputs": [
        {
          "output_type": "stream",
          "name": "stdout",
          "text": [
            "[[1. 0. 0. 0.]\n",
            " [0. 1. 0. 0.]\n",
            " [0. 0. 1. 0.]\n",
            " [0. 0. 0. 1.]]\n"
          ]
        }
      ]
    },
    {
      "cell_type": "code",
      "source": [
        "# create an array with random values"
      ],
      "metadata": {
        "id": "3XG3qUxRI896"
      },
      "execution_count": 29,
      "outputs": []
    },
    {
      "cell_type": "code",
      "source": [
        "np.random.random((3,6))"
      ],
      "metadata": {
        "colab": {
          "base_uri": "https://localhost:8080/"
        },
        "id": "5KNClKOMJH7C",
        "outputId": "a20a7513-bf48-46d6-afb5-e0a117166042"
      },
      "execution_count": 30,
      "outputs": [
        {
          "output_type": "execute_result",
          "data": {
            "text/plain": [
              "array([[0.73400948, 0.60323035, 0.75868396, 0.44338425, 0.73617923,\n",
              "        0.66939085],\n",
              "       [0.81551616, 0.86766249, 0.73153827, 0.55190362, 0.92780052,\n",
              "        0.21892777],\n",
              "       [0.21262452, 0.47265425, 0.70928125, 0.81587965, 0.19049139,\n",
              "        0.4134912 ]])"
            ]
          },
          "metadata": {},
          "execution_count": 30
        }
      ]
    },
    {
      "cell_type": "code",
      "source": [
        "np.random.randint(3,14)"
      ],
      "metadata": {
        "colab": {
          "base_uri": "https://localhost:8080/"
        },
        "id": "1Qp-yNp4JSCr",
        "outputId": "884c5f51-f208-4e28-d943-de1df0e6a38c"
      },
      "execution_count": 31,
      "outputs": [
        {
          "output_type": "execute_result",
          "data": {
            "text/plain": [
              "6"
            ]
          },
          "metadata": {},
          "execution_count": 31
        }
      ]
    },
    {
      "cell_type": "code",
      "source": [
        "# to find shape of an array"
      ],
      "metadata": {
        "id": "9fN6A3ymJbvd"
      },
      "execution_count": 32,
      "outputs": []
    },
    {
      "cell_type": "code",
      "source": [
        "arr = np.array([[1,2,3,4,5],\n",
        "                [3,4,5,6,7],\n",
        "                [8,9,1,3,9],\n",
        "                [2,4,6,8,1]])\n",
        "print(arr.shape)\n"
      ],
      "metadata": {
        "colab": {
          "base_uri": "https://localhost:8080/"
        },
        "id": "bIygQ4_-JjeZ",
        "outputId": "f854cf35-b4ce-4465-dcd6-fdcc41a6a7cc"
      },
      "execution_count": 33,
      "outputs": [
        {
          "output_type": "stream",
          "name": "stdout",
          "text": [
            "(4, 5)\n"
          ]
        }
      ]
    },
    {
      "cell_type": "code",
      "source": [
        "# to find no of elements in array"
      ],
      "metadata": {
        "id": "AFxb5-JKKJ7y"
      },
      "execution_count": 34,
      "outputs": []
    },
    {
      "cell_type": "code",
      "source": [
        "arr = np.array([[1,2,3,4,5],\n",
        "                [3,4,5,6,7],\n",
        "                [8,9,1,3,9],\n",
        "                [2,4,6,8,1]])\n",
        "print(arr.size)\n"
      ],
      "metadata": {
        "colab": {
          "base_uri": "https://localhost:8080/"
        },
        "id": "IvXpmAVpKbfF",
        "outputId": "5506d272-ab47-406d-f4f1-3752615c9dfe"
      },
      "execution_count": 35,
      "outputs": [
        {
          "output_type": "stream",
          "name": "stdout",
          "text": [
            "20\n"
          ]
        }
      ]
    },
    {
      "cell_type": "code",
      "source": [
        "# to find the length of array"
      ],
      "metadata": {
        "id": "Vr631mm7KpRI"
      },
      "execution_count": 36,
      "outputs": []
    },
    {
      "cell_type": "code",
      "source": [
        "import numpy as np\n",
        "arr = np.array([[1,2,3,4,5],\n",
        "                [3,4,5,6,7],\n",
        "                [8,9,1,3,9],\n",
        "                [2,4,6,8,1]])\n",
        "len(arr)\n",
        "\n"
      ],
      "metadata": {
        "colab": {
          "base_uri": "https://localhost:8080/"
        },
        "id": "U_UsPzvOKw4G",
        "outputId": "e06c26b6-9dee-4a30-c471-af15941a5a18"
      },
      "execution_count": 42,
      "outputs": [
        {
          "output_type": "execute_result",
          "data": {
            "text/plain": [
              "4"
            ]
          },
          "metadata": {},
          "execution_count": 42
        }
      ]
    },
    {
      "cell_type": "code",
      "source": [],
      "metadata": {
        "id": "pug9ScaQK_t0"
      },
      "execution_count": null,
      "outputs": []
    }
  ]
}