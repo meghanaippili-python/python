{
  "nbformat": 4,
  "nbformat_minor": 0,
  "metadata": {
    "colab": {
      "provenance": []
    },
    "kernelspec": {
      "name": "python3",
      "display_name": "Python 3"
    },
    "language_info": {
      "name": "python"
    }
  },
  "cells": [
    {
      "cell_type": "markdown",
      "source": [
        "LOOP STATEMENTS:\n",
        "\n",
        "- while : iterating with values\n",
        "- for : iterating in a squence"
      ],
      "metadata": {
        "id": "VCWU00JkORk-"
      }
    },
    {
      "cell_type": "code",
      "source": [
        "i = 0\n",
        "while i <= 5:\n",
        "  print(i)\n",
        "  i = i + 1\n"
      ],
      "metadata": {
        "id": "jW2KLwTFOiXO",
        "colab": {
          "base_uri": "https://localhost:8080/"
        },
        "outputId": "e58d1c5c-9645-4f13-b883-e22649edbd4f"
      },
      "execution_count": 1,
      "outputs": [
        {
          "output_type": "stream",
          "name": "stdout",
          "text": [
            "0\n",
            "1\n",
            "2\n",
            "3\n",
            "4\n",
            "5\n"
          ]
        }
      ]
    },
    {
      "cell_type": "code",
      "source": [
        "i = 5\n",
        "while i <= 100:\n",
        "  print(i)\n",
        "  i = i + 10"
      ],
      "metadata": {
        "colab": {
          "base_uri": "https://localhost:8080/"
        },
        "id": "gHvqV11J-kMj",
        "outputId": "c9c4c06a-d5ec-4c60-f0b1-8de9d0118886"
      },
      "execution_count": 2,
      "outputs": [
        {
          "output_type": "stream",
          "name": "stdout",
          "text": [
            "5\n",
            "15\n",
            "25\n",
            "35\n",
            "45\n",
            "55\n",
            "65\n",
            "75\n",
            "85\n",
            "95\n"
          ]
        }
      ]
    },
    {
      "cell_type": "code",
      "source": [
        "# for loop examples"
      ],
      "metadata": {
        "id": "We2MnxmZ-1e5"
      },
      "execution_count": 3,
      "outputs": []
    },
    {
      "cell_type": "code",
      "source": [
        "age = [13,15,27,36,32]\n",
        "for i in age:\n",
        "  print(\"my age is\" ,i)"
      ],
      "metadata": {
        "colab": {
          "base_uri": "https://localhost:8080/"
        },
        "id": "u1XglcMK-_UQ",
        "outputId": "612b2fa6-bc1b-4026-f58c-9423e5a6067e"
      },
      "execution_count": 4,
      "outputs": [
        {
          "output_type": "stream",
          "name": "stdout",
          "text": [
            "my age is 13\n",
            "my age is 15\n",
            "my age is 27\n",
            "my age is 36\n",
            "my age is 32\n"
          ]
        }
      ]
    },
    {
      "cell_type": "code",
      "source": [
        "# for string example"
      ],
      "metadata": {
        "id": "AUUoEKbI_bqf"
      },
      "execution_count": null,
      "outputs": []
    },
    {
      "cell_type": "code",
      "source": [
        "str = \"python\"\n",
        "for y in str:\n",
        "  print(y)"
      ],
      "metadata": {
        "colab": {
          "base_uri": "https://localhost:8080/"
        },
        "id": "xloc-AwJ_g-b",
        "outputId": "9168bfb1-ae42-454a-9eee-43b22eb22bf5"
      },
      "execution_count": 5,
      "outputs": [
        {
          "output_type": "stream",
          "name": "stdout",
          "text": [
            "p\n",
            "y\n",
            "t\n",
            "h\n",
            "o\n",
            "n\n"
          ]
        }
      ]
    },
    {
      "cell_type": "code",
      "source": [
        "# for tup example"
      ],
      "metadata": {
        "id": "OIMGHfMH_qLY"
      },
      "execution_count": 6,
      "outputs": []
    },
    {
      "cell_type": "code",
      "source": [
        "tup = (\"apple\",\"nuts\",\"milk\",\"honey\")\n",
        "for nuts in tup:\n",
        "  print(nuts)"
      ],
      "metadata": {
        "colab": {
          "base_uri": "https://localhost:8080/"
        },
        "id": "DR4oIj_U_wOw",
        "outputId": "c576bb23-a883-4ecd-aeca-071000a86f52"
      },
      "execution_count": 7,
      "outputs": [
        {
          "output_type": "stream",
          "name": "stdout",
          "text": [
            "apple\n",
            "nuts\n",
            "milk\n",
            "honey\n"
          ]
        }
      ]
    },
    {
      "cell_type": "code",
      "source": [
        "st = [1,2,3,4,5,6,7,8,9,10,12,14,16,18,20]\n",
        "for i in st:\n",
        "  print(i)\n"
      ],
      "metadata": {
        "colab": {
          "base_uri": "https://localhost:8080/"
        },
        "id": "szpnrVD2AQCQ",
        "outputId": "bdf9bc0f-318f-4508-a62f-d3510dee3d97"
      },
      "execution_count": 8,
      "outputs": [
        {
          "output_type": "stream",
          "name": "stdout",
          "text": [
            "1\n",
            "2\n",
            "3\n",
            "4\n",
            "5\n",
            "6\n",
            "7\n",
            "8\n",
            "9\n",
            "10\n",
            "12\n",
            "14\n",
            "16\n",
            "18\n",
            "20\n"
          ]
        }
      ]
    },
    {
      "cell_type": "code",
      "source": [
        "# for dictionary examples"
      ],
      "metadata": {
        "id": "Ndq_0IQTAmxc"
      },
      "execution_count": 9,
      "outputs": []
    },
    {
      "cell_type": "code",
      "source": [
        "dict1 = {\"name\":\"meghana\",\"age\":\"19\",\"place\":\"hyderabad\"}\n",
        "for key,value in dict1.items():\n",
        "  print(key,value)\n"
      ],
      "metadata": {
        "colab": {
          "base_uri": "https://localhost:8080/"
        },
        "id": "lweFk2lRAuNZ",
        "outputId": "44c824e0-bd72-4a7d-dff2-dd08601dd6b3"
      },
      "execution_count": 11,
      "outputs": [
        {
          "output_type": "stream",
          "name": "stdout",
          "text": [
            "name meghana\n",
            "age 19\n",
            "place hyderabad\n"
          ]
        }
      ]
    },
    {
      "cell_type": "code",
      "source": [
        "# using f format"
      ],
      "metadata": {
        "id": "GkSAr5ZZBTlr"
      },
      "execution_count": 12,
      "outputs": []
    },
    {
      "cell_type": "code",
      "source": [
        "dict1 = {\"name\":\"meghana\",\"age\":\"19\",\"place\":\"hyderabad\"}\n",
        "for key,value in dict1.items():\n",
        "  print(f\"my key is {key} and value is {value}\")"
      ],
      "metadata": {
        "colab": {
          "base_uri": "https://localhost:8080/"
        },
        "id": "kAJjBLMfBirS",
        "outputId": "398ef217-26c8-4e14-e021-d5a3e3b29809"
      },
      "execution_count": 13,
      "outputs": [
        {
          "output_type": "stream",
          "name": "stdout",
          "text": [
            "my key is name and value is meghana\n",
            "my key is age and value is 19\n",
            "my key is place and value is hyderabad\n"
          ]
        }
      ]
    },
    {
      "cell_type": "code",
      "source": [
        "for i in range (1,13):\n",
        "  print(i)"
      ],
      "metadata": {
        "colab": {
          "base_uri": "https://localhost:8080/"
        },
        "id": "-Hi8McWOCNKy",
        "outputId": "5c59f3cd-0adc-4f1e-df59-aba1e4a22a71"
      },
      "execution_count": 14,
      "outputs": [
        {
          "output_type": "stream",
          "name": "stdout",
          "text": [
            "1\n",
            "2\n",
            "3\n",
            "4\n",
            "5\n",
            "6\n",
            "7\n",
            "8\n",
            "9\n",
            "10\n",
            "11\n",
            "12\n"
          ]
        }
      ]
    },
    {
      "cell_type": "code",
      "source": [],
      "metadata": {
        "id": "8g94K1gCCQgy"
      },
      "execution_count": null,
      "outputs": []
    }
  ]
}