{
  "nbformat": 4,
  "nbformat_minor": 0,
  "metadata": {
    "colab": {
      "provenance": []
    },
    "kernelspec": {
      "name": "python3",
      "display_name": "Python 3"
    },
    "language_info": {
      "name": "python"
    }
  },
  "cells": [
    {
      "cell_type": "markdown",
      "source": [
        "PYTHON FUNCTIONS"
      ],
      "metadata": {
        "id": "ocCP4Ur9xVfR"
      }
    },
    {
      "cell_type": "markdown",
      "source": [
        "- built in function\n",
        "- user define function"
      ],
      "metadata": {
        "id": "5F83J5KEx1tX"
      }
    },
    {
      "cell_type": "code",
      "source": [
        "# built in function examples"
      ],
      "metadata": {
        "id": "ttZ9rxovx6Qg"
      },
      "execution_count": null,
      "outputs": []
    },
    {
      "cell_type": "code",
      "source": [
        "def sum(a,b):\n",
        "  c = a + b\n",
        "  print(c)\n"
      ],
      "metadata": {
        "id": "CZcpUqXbyiY_"
      },
      "execution_count": null,
      "outputs": []
    },
    {
      "cell_type": "code",
      "source": [
        "sum(4,8)"
      ],
      "metadata": {
        "colab": {
          "base_uri": "https://localhost:8080/"
        },
        "id": "8ty4UlhFy1CC",
        "outputId": "93022b22-7a3d-48ea-e81a-dfe4671ce875"
      },
      "execution_count": null,
      "outputs": [
        {
          "output_type": "stream",
          "name": "stdout",
          "text": [
            "12\n"
          ]
        }
      ]
    },
    {
      "cell_type": "code",
      "source": [
        "def sum(a,b):\n",
        "  c = a * b\n",
        "  print(c)"
      ],
      "metadata": {
        "id": "8oxfpyqxy3zu"
      },
      "execution_count": null,
      "outputs": []
    },
    {
      "cell_type": "code",
      "source": [
        "sum(15,4)"
      ],
      "metadata": {
        "colab": {
          "base_uri": "https://localhost:8080/"
        },
        "id": "rPyAyg6cy_GZ",
        "outputId": "c0e69b59-382c-4381-a867-5caf66a76990"
      },
      "execution_count": null,
      "outputs": [
        {
          "output_type": "stream",
          "name": "stdout",
          "text": [
            "60\n"
          ]
        }
      ]
    },
    {
      "cell_type": "code",
      "source": [
        "# using arthimetic operations"
      ],
      "metadata": {
        "id": "U9sJmk-LzEAn"
      },
      "execution_count": null,
      "outputs": []
    },
    {
      "cell_type": "code",
      "source": [
        "num1 = int(input(\"enter the num1 numbwe:\"))\n",
        "num2 = int(input(\"enter the num2 number:\"))\n",
        "def sum(num1,num2):\n",
        "  c = num1 + num2\n",
        "  d = num1 * num2\n",
        "  e = num1 / num2\n",
        "  f = num1 - num2\n",
        "  print(c)\n",
        "  print(d)\n",
        "  print(e)\n",
        "  print(F)\n"
      ],
      "metadata": {
        "colab": {
          "base_uri": "https://localhost:8080/"
        },
        "id": "mRUa9Ewa1YsL",
        "outputId": "28d97620-715b-49d1-98a6-10819d315bc0"
      },
      "execution_count": null,
      "outputs": [
        {
          "name": "stdout",
          "output_type": "stream",
          "text": [
            "enter the num1 numbwe:8\n",
            "enter the num2 number:8\n"
          ]
        }
      ]
    },
    {
      "cell_type": "code",
      "source": [
        "# user define examples : taking values from the user"
      ],
      "metadata": {
        "id": "cBSlIfDK3nyS"
      },
      "execution_count": null,
      "outputs": []
    },
    {
      "cell_type": "code",
      "source": [
        "user = input(\"enter the name:\")\n",
        "name = \"meghana\"\n",
        "def find_name(user,name):\n",
        "  if user == name:\n",
        "    print(\"true\")\n",
        "  else:\n",
        "    print(\"false\")"
      ],
      "metadata": {
        "colab": {
          "base_uri": "https://localhost:8080/"
        },
        "id": "VK9wYBiV3118",
        "outputId": "85a5e00a-2b0b-4555-eb93-8dddb9c6bebe"
      },
      "execution_count": null,
      "outputs": [
        {
          "name": "stdout",
          "output_type": "stream",
          "text": [
            "enter the name:meghana\n"
          ]
        }
      ]
    },
    {
      "cell_type": "code",
      "source": [
        "find_name(user,name)"
      ],
      "metadata": {
        "colab": {
          "base_uri": "https://localhost:8080/"
        },
        "id": "1FVara484fjf",
        "outputId": "f994a313-4534-490e-9590-52801b1628a6"
      },
      "execution_count": null,
      "outputs": [
        {
          "output_type": "stream",
          "name": "stdout",
          "text": [
            "true\n"
          ]
        }
      ]
    },
    {
      "cell_type": "code",
      "source": [
        "user = input(\"enter the char:\")\n",
        "vowels = ['a','e','i','o','u']\n",
        "def find_vowels(user):\n",
        "  if user.lower() in vowels:\n",
        "    print(f\"{user} is a vowel\")\n",
        "  else:\n",
        "    print(f\"{user} is not a vowel\")\n",
        "find_vowels(user)"
      ],
      "metadata": {
        "colab": {
          "base_uri": "https://localhost:8080/"
        },
        "id": "-6yniR8j6tAB",
        "outputId": "923db831-d433-4d3c-eb87-010883226a02"
      },
      "execution_count": 32,
      "outputs": [
        {
          "output_type": "stream",
          "name": "stdout",
          "text": [
            "enter the char:i\n",
            "i is a vowel\n"
          ]
        }
      ]
    },
    {
      "cell_type": "code",
      "source": [
        "# return statement : it is used to return the value and used to get output also"
      ],
      "metadata": {
        "id": "p5FB1MFE7tYP"
      },
      "execution_count": 33,
      "outputs": []
    },
    {
      "cell_type": "code",
      "source": [
        "def mul(a,b):\n",
        "    mul = a * b\n",
        "    return mul"
      ],
      "metadata": {
        "id": "0iLEI0eR8nXk"
      },
      "execution_count": 41,
      "outputs": []
    },
    {
      "cell_type": "code",
      "source": [
        "mul(8,9)"
      ],
      "metadata": {
        "colab": {
          "base_uri": "https://localhost:8080/"
        },
        "id": "98e1GtkD85Pp",
        "outputId": "3531b124-b8c8-4cda-8f8d-4fe5cd74a04f"
      },
      "execution_count": 42,
      "outputs": [
        {
          "output_type": "execute_result",
          "data": {
            "text/plain": [
              "72"
            ]
          },
          "metadata": {},
          "execution_count": 42
        }
      ]
    },
    {
      "cell_type": "code",
      "source": [
        "mul(56,8)"
      ],
      "metadata": {
        "colab": {
          "base_uri": "https://localhost:8080/"
        },
        "id": "SyUylo_J9Cvp",
        "outputId": "f2c8fa8f-9cb6-41a0-da5a-6e992263dd21"
      },
      "execution_count": 43,
      "outputs": [
        {
          "output_type": "execute_result",
          "data": {
            "text/plain": [
              "448"
            ]
          },
          "metadata": {},
          "execution_count": 43
        }
      ]
    },
    {
      "cell_type": "code",
      "source": [
        "def add(a,b):\n",
        "  add = a + b\n",
        "  return add"
      ],
      "metadata": {
        "id": "VbCjbFJd9GDJ"
      },
      "execution_count": 44,
      "outputs": []
    },
    {
      "cell_type": "code",
      "source": [
        "add(20,56)"
      ],
      "metadata": {
        "colab": {
          "base_uri": "https://localhost:8080/"
        },
        "id": "vtVPgds39M7Y",
        "outputId": "846f225a-a293-43b8-af0c-89c65f6f18db"
      },
      "execution_count": 46,
      "outputs": [
        {
          "output_type": "execute_result",
          "data": {
            "text/plain": [
              "76"
            ]
          },
          "metadata": {},
          "execution_count": 46
        }
      ]
    },
    {
      "cell_type": "code",
      "source": [
        "add(300,498)"
      ],
      "metadata": {
        "colab": {
          "base_uri": "https://localhost:8080/"
        },
        "id": "bnkecEQg9RAm",
        "outputId": "3b5dcbc4-6c35-4872-eb1f-6e263a3a0506"
      },
      "execution_count": 47,
      "outputs": [
        {
          "output_type": "execute_result",
          "data": {
            "text/plain": [
              "798"
            ]
          },
          "metadata": {},
          "execution_count": 47
        }
      ]
    },
    {
      "cell_type": "code",
      "source": [
        "def div(a,b):\n",
        "  div = a / b\n",
        "  return div"
      ],
      "metadata": {
        "id": "2viEI40C9X7r"
      },
      "execution_count": 48,
      "outputs": []
    },
    {
      "cell_type": "code",
      "source": [
        "div(2,8)"
      ],
      "metadata": {
        "colab": {
          "base_uri": "https://localhost:8080/"
        },
        "id": "Rj6qqwhF9i4Z",
        "outputId": "692e47a5-5b6f-47cc-a2b9-d480d90655c8"
      },
      "execution_count": 50,
      "outputs": [
        {
          "output_type": "execute_result",
          "data": {
            "text/plain": [
              "0.25"
            ]
          },
          "metadata": {},
          "execution_count": 50
        }
      ]
    },
    {
      "cell_type": "code",
      "source": [
        "div(30,5)"
      ],
      "metadata": {
        "colab": {
          "base_uri": "https://localhost:8080/"
        },
        "id": "jKKIOqL_9nMy",
        "outputId": "8cb5c577-7f38-4a7c-e13c-c21f48174ad5"
      },
      "execution_count": 51,
      "outputs": [
        {
          "output_type": "execute_result",
          "data": {
            "text/plain": [
              "6.0"
            ]
          },
          "metadata": {},
          "execution_count": 51
        }
      ]
    },
    {
      "cell_type": "code",
      "source": [
        "# lamda function"
      ],
      "metadata": {
        "id": "e-5C2B259rzM"
      },
      "execution_count": 52,
      "outputs": []
    },
    {
      "cell_type": "code",
      "source": [
        "f = lambda y : y + 100\n",
        "print(f(5))"
      ],
      "metadata": {
        "colab": {
          "base_uri": "https://localhost:8080/"
        },
        "id": "H3ia25oB9xN8",
        "outputId": "a6776820-588a-4935-e877-35a2a80d347d"
      },
      "execution_count": 54,
      "outputs": [
        {
          "output_type": "stream",
          "name": "stdout",
          "text": [
            "105\n"
          ]
        }
      ]
    },
    {
      "cell_type": "code",
      "source": [
        "mul = lambda a,b : a * b\n",
        "print(mul(8,8))"
      ],
      "metadata": {
        "colab": {
          "base_uri": "https://localhost:8080/"
        },
        "id": "YoNlYjYh-E8g",
        "outputId": "50569102-d195-4784-f3d3-82e54f98f195"
      },
      "execution_count": 55,
      "outputs": [
        {
          "output_type": "stream",
          "name": "stdout",
          "text": [
            "64\n"
          ]
        }
      ]
    },
    {
      "cell_type": "code",
      "source": [
        "# using def function"
      ],
      "metadata": {
        "id": "NXA4VAMq-bpc"
      },
      "execution_count": 56,
      "outputs": []
    },
    {
      "cell_type": "code",
      "source": [
        "def find():\n",
        "  lam = lambda a,b : a + b\n",
        "  return lam(6,5)"
      ],
      "metadata": {
        "id": "1TaAeUaM-lcb"
      },
      "execution_count": 60,
      "outputs": []
    },
    {
      "cell_type": "code",
      "source": [
        "h = find()\n",
        "print(h)"
      ],
      "metadata": {
        "colab": {
          "base_uri": "https://localhost:8080/"
        },
        "id": "EKt0x9t_-4R9",
        "outputId": "18853714-1893-4f31-ae9a-d5e46211150e"
      },
      "execution_count": 61,
      "outputs": [
        {
          "output_type": "stream",
          "name": "stdout",
          "text": [
            "11\n"
          ]
        }
      ]
    },
    {
      "cell_type": "code",
      "source": [
        "lam = lambda a,b,c : a + b * c\n",
        "print(lam(2,3,4))"
      ],
      "metadata": {
        "colab": {
          "base_uri": "https://localhost:8080/"
        },
        "id": "zQx2DJ4S_Bw_",
        "outputId": "902472a0-69f7-48a5-b34f-2002c126ea9d"
      },
      "execution_count": 64,
      "outputs": [
        {
          "output_type": "stream",
          "name": "stdout",
          "text": [
            "14\n"
          ]
        }
      ]
    },
    {
      "cell_type": "code",
      "source": [
        "# global and local"
      ],
      "metadata": {
        "id": "H7n-ubmb_g5x"
      },
      "execution_count": 65,
      "outputs": []
    },
    {
      "cell_type": "code",
      "source": [
        "glo = \"hello kitty\"\n",
        "def local():\n",
        "  local_var = \" i am a local variable\"\n",
        "  print(local_var)\n",
        "\n",
        "  print(glo)"
      ],
      "metadata": {
        "id": "Bu2_NpGi_s6i"
      },
      "execution_count": 67,
      "outputs": []
    },
    {
      "cell_type": "code",
      "source": [
        "local()"
      ],
      "metadata": {
        "colab": {
          "base_uri": "https://localhost:8080/"
        },
        "id": "a0M-CwzIAUz6",
        "outputId": "c95182e0-b526-4b52-a49f-110729d7e078"
      },
      "execution_count": 68,
      "outputs": [
        {
          "output_type": "stream",
          "name": "stdout",
          "text": [
            " i am a local variable\n",
            "hello kitty\n"
          ]
        }
      ]
    },
    {
      "cell_type": "code",
      "source": [],
      "metadata": {
        "id": "ZWrY50IhAcgP"
      },
      "execution_count": null,
      "outputs": []
    }
  ]
}