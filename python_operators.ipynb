{
  "nbformat": 4,
  "nbformat_minor": 0,
  "metadata": {
    "colab": {
      "provenance": []
    },
    "kernelspec": {
      "name": "python3",
      "display_name": "Python 3"
    },
    "language_info": {
      "name": "python"
    }
  },
  "cells": [
    {
      "cell_type": "markdown",
      "source": [
        "# PYTHON OPERATORS"
      ],
      "metadata": {
        "id": "CL_iRjsVyTsu"
      }
    },
    {
      "cell_type": "code",
      "source": [
        "- There are 7 types of python operators"
      ],
      "metadata": {
        "id": "5RnrfdCByY7a"
      },
      "execution_count": null,
      "outputs": []
    },
    {
      "cell_type": "code",
      "source": [
        "- arthimetic operators\n",
        "- assignment operators\n",
        "-  comparison operators\n",
        "- logical operators\n",
        "- identity operators\n",
        "- membership operators\n",
        "- bitwise operators"
      ],
      "metadata": {
        "id": "BQ-wDYdlC8H8"
      },
      "execution_count": null,
      "outputs": []
    },
    {
      "cell_type": "code",
      "source": [
        "- arthimetic operators\n"
      ],
      "metadata": {
        "id": "QSovKpl-DUyL"
      },
      "execution_count": null,
      "outputs": []
    },
    {
      "cell_type": "code",
      "source": [
        "a = 22\n",
        "b = 4\n",
        "print(a+b)\n",
        "print(a-b)\n",
        "print(a*b)\n",
        "print(a/b)\n",
        "print(a&b)\n",
        "print(a**b)\n",
        "print(a//b)"
      ],
      "metadata": {
        "colab": {
          "base_uri": "https://localhost:8080/"
        },
        "id": "FZ3ybXhNDpc5",
        "outputId": "5a6cc1a3-8748-4447-8e3b-a3f06529a6a9"
      },
      "execution_count": 3,
      "outputs": [
        {
          "output_type": "stream",
          "name": "stdout",
          "text": [
            "26\n",
            "18\n",
            "88\n",
            "5.5\n",
            "4\n",
            "234256\n",
            "5\n"
          ]
        }
      ]
    },
    {
      "cell_type": "code",
      "source": [
        "- comparison operator : it is used to compare two values"
      ],
      "metadata": {
        "id": "9D1PELfmEIwq"
      },
      "execution_count": null,
      "outputs": []
    },
    {
      "cell_type": "code",
      "source": [
        "a= 13\n",
        "b = 5\n",
        "print(a==b)\n",
        "print(a!=b)\n",
        "print(a>b)\n",
        "print(a<=b)"
      ],
      "metadata": {
        "colab": {
          "base_uri": "https://localhost:8080/"
        },
        "id": "AYvKT-eiEfps",
        "outputId": "c20c6557-2448-49c0-e525-cfe0cd999198"
      },
      "execution_count": 6,
      "outputs": [
        {
          "output_type": "stream",
          "name": "stdout",
          "text": [
            "False\n",
            "True\n",
            "True\n",
            "False\n"
          ]
        }
      ]
    },
    {
      "cell_type": "code",
      "source": [
        "- assignment operator : it is combination of both assignment and arthimetic operator"
      ],
      "metadata": {
        "id": "nVIPPOMLFFLM"
      },
      "execution_count": null,
      "outputs": []
    },
    {
      "cell_type": "code",
      "source": [
        "a = 22\n",
        "b = 13\n",
        "a+=b\n",
        "print(a)"
      ],
      "metadata": {
        "colab": {
          "base_uri": "https://localhost:8080/"
        },
        "id": "d3nuf-0QFcMn",
        "outputId": "0f75488a-ae86-4f29-e5a1-2e524fced085"
      },
      "execution_count": 9,
      "outputs": [
        {
          "output_type": "stream",
          "name": "stdout",
          "text": [
            "35\n"
          ]
        }
      ]
    },
    {
      "cell_type": "code",
      "source": [
        "a*=b\n",
        "print(a)"
      ],
      "metadata": {
        "colab": {
          "base_uri": "https://localhost:8080/"
        },
        "id": "FMAvC6gVFlVS",
        "outputId": "a1b468fa-e240-4a69-eb1c-c21265d4e9b1"
      },
      "execution_count": 10,
      "outputs": [
        {
          "output_type": "stream",
          "name": "stdout",
          "text": [
            "455\n"
          ]
        }
      ]
    },
    {
      "cell_type": "code",
      "source": [
        "a/=b\n",
        "print(a)"
      ],
      "metadata": {
        "colab": {
          "base_uri": "https://localhost:8080/"
        },
        "id": "1kvIit-1Frln",
        "outputId": "f7ec3af6-cb70-47be-fa34-519577091fa3"
      },
      "execution_count": 11,
      "outputs": [
        {
          "output_type": "stream",
          "name": "stdout",
          "text": [
            "35.0\n"
          ]
        }
      ]
    },
    {
      "cell_type": "code",
      "source": [
        "a%=b\n",
        "print(a)"
      ],
      "metadata": {
        "colab": {
          "base_uri": "https://localhost:8080/"
        },
        "id": "mVtQBYyUGfuy",
        "outputId": "a7ce2ff1-a411-4871-a544-b21e79743f05"
      },
      "execution_count": 12,
      "outputs": [
        {
          "output_type": "stream",
          "name": "stdout",
          "text": [
            "9.0\n"
          ]
        }
      ]
    },
    {
      "cell_type": "code",
      "source": [
        "a**b\n",
        "print(a)"
      ],
      "metadata": {
        "colab": {
          "base_uri": "https://localhost:8080/"
        },
        "id": "I_JF9v9-GoSw",
        "outputId": "e4beb55c-6161-48cc-dd9f-3c9b86ac8bb8"
      },
      "execution_count": 13,
      "outputs": [
        {
          "output_type": "stream",
          "name": "stdout",
          "text": [
            "9.0\n"
          ]
        }
      ]
    },
    {
      "cell_type": "markdown",
      "source": [
        "logical operator: either one should be satisfy."
      ],
      "metadata": {
        "id": "_DbgbZbrI5Ee"
      }
    },
    {
      "cell_type": "code",
      "source": [
        "# and : returns true if both statements are true\n",
        "# or  : returns true if one of the statements is true\n",
        "# not : reverse the result, returns false if the result is true\n",
        "\n"
      ],
      "metadata": {
        "id": "jpFaZliJIGm_"
      },
      "execution_count": 24,
      "outputs": []
    },
    {
      "cell_type": "code",
      "source": [
        "True\n",
        "True\n",
        "False"
      ],
      "metadata": {
        "colab": {
          "base_uri": "https://localhost:8080/"
        },
        "id": "PU7cfzZMJh91",
        "outputId": "e4587da4-1427-42ba-e24b-e509a3a29a2d"
      },
      "execution_count": 27,
      "outputs": [
        {
          "output_type": "execute_result",
          "data": {
            "text/plain": [
              "False"
            ]
          },
          "metadata": {},
          "execution_count": 27
        }
      ]
    },
    {
      "cell_type": "code",
      "source": [
        "- Identity operator : used to compare the objects, not if they are equal, but if they are actually the same object, with the same memory location\n",
        "\n",
        "is : true if both variables are same objects\n",
        "\n",
        "is not : true if both variables are not same objects"
      ],
      "metadata": {
        "id": "nvCeUVL-Juwp"
      },
      "execution_count": null,
      "outputs": []
    },
    {
      "cell_type": "code",
      "source": [
        "a = 13\n",
        "b = 15\n",
        "print(a is b)\n",
        "print(a is not b)"
      ],
      "metadata": {
        "colab": {
          "base_uri": "https://localhost:8080/"
        },
        "id": "PfUGh9HdKJXr",
        "outputId": "c7bf7163-eef6-4060-d162-8e51d230375a"
      },
      "execution_count": 28,
      "outputs": [
        {
          "output_type": "stream",
          "name": "stdout",
          "text": [
            "False\n",
            "True\n"
          ]
        }
      ]
    },
    {
      "cell_type": "code",
      "source": [
        "- memberahip operator : used to identify the sequence of the elements\n",
        "\n",
        "\n",
        "in:\n",
        "\n",
        "not in"
      ],
      "metadata": {
        "id": "s343utFVKS76"
      },
      "execution_count": null,
      "outputs": []
    },
    {
      "cell_type": "code",
      "source": [
        " a = [1,2,3,4,5,6]\n",
        " print(1 in a)\n",
        " print(1 not in a)"
      ],
      "metadata": {
        "colab": {
          "base_uri": "https://localhost:8080/"
        },
        "id": "J50ZngVxKfzM",
        "outputId": "23c6755b-62b3-4f1f-edd7-205833de42af"
      },
      "execution_count": 29,
      "outputs": [
        {
          "output_type": "stream",
          "name": "stdout",
          "text": [
            "True\n",
            "False\n"
          ]
        }
      ]
    },
    {
      "cell_type": "code",
      "source": [
        "\n",
        "- bitwise operator : used to compare numbers\n",
        "\n",
        "\n",
        ". &(AND)\n",
        ".| (Or)\n",
        ". ^(XOR)\n",
        ".~(NOT)\n",
        ".<<(LEFT SHIFT)\n",
        ".>>(RIGHT SHIFT)"
      ],
      "metadata": {
        "id": "ZYbsfo-HKzGP"
      },
      "execution_count": null,
      "outputs": []
    },
    {
      "cell_type": "code",
      "source": [
        "a = 22\n",
        "b = 15\n",
        "print(a&b)\n",
        "print(a|b)\n",
        "print(a^b)\n",
        "print(~a)\n",
        "print(a<<2)\n",
        "print(a>>2)\n",
        "print(b>>2)\n",
        "print(b<<2)"
      ],
      "metadata": {
        "colab": {
          "base_uri": "https://localhost:8080/"
        },
        "id": "P0SUeEYdLqF0",
        "outputId": "254f239f-e8b6-4071-d734-405660ebfafa"
      },
      "execution_count": 30,
      "outputs": [
        {
          "output_type": "stream",
          "name": "stdout",
          "text": [
            "6\n",
            "31\n",
            "25\n",
            "-23\n",
            "88\n",
            "5\n",
            "3\n",
            "60\n"
          ]
        }
      ]
    },
    {
      "cell_type": "code",
      "source": [
        "\n"
      ],
      "metadata": {
        "id": "Elo-XRVfK6nx"
      },
      "execution_count": null,
      "outputs": []
    },
    {
      "cell_type": "code",
      "source": [],
      "metadata": {
        "id": "IhejCPVyLi6i"
      },
      "execution_count": null,
      "outputs": []
    }
  ]
}