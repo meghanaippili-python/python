{
  "nbformat": 4,
  "nbformat_minor": 0,
  "metadata": {
    "colab": {
      "provenance": []
    },
    "kernelspec": {
      "name": "python3",
      "display_name": "Python 3"
    },
    "language_info": {
      "name": "python"
    }
  },
  "cells": [
    {
      "cell_type": "markdown",
      "source": [
        " CONTROL STATEMENTS : flow of outputs\n",
        "\n",
        " - pass\n",
        " - continue\n",
        " - break"
      ],
      "metadata": {
        "id": "t6Z_BiBrIJUE"
      }
    },
    {
      "cell_type": "code",
      "source": [
        "# for pass examples"
      ],
      "metadata": {
        "id": "AGCqfWfQINIM"
      },
      "execution_count": 1,
      "outputs": []
    },
    {
      "cell_type": "code",
      "source": [
        "for i in range (1,5):\n",
        "  if i == 2:\n",
        "    pass\n",
        "for i in range (1,5):\n",
        "  if i == 2:\n",
        "    pass\n",
        "  else:\n",
        "    print(i)"
      ],
      "metadata": {
        "colab": {
          "base_uri": "https://localhost:8080/"
        },
        "id": "i1JEdBF7IsB1",
        "outputId": "c10bfdac-38db-4bb8-967c-6d2ded48a0ba"
      },
      "execution_count": 4,
      "outputs": [
        {
          "output_type": "stream",
          "name": "stdout",
          "text": [
            "1\n",
            "3\n",
            "4\n"
          ]
        }
      ]
    },
    {
      "cell_type": "code",
      "source": [
        "for tup in (\"apple\",\"cherry\",\"berry\"):\n",
        "    if tup ==\"cherry\":\n",
        "        continue\n",
        "    else:\n",
        "        print(tup)\n",
        ""
      ],
      "metadata": {
        "colab": {
          "base_uri": "https://localhost:8080/"
        },
        "id": "uUr-7JOeJE-h",
        "outputId": "cb1e7b95-8dd4-432d-9649-73de62c9f179"
      },
      "execution_count": 7,
      "outputs": [
        {
          "output_type": "stream",
          "name": "stdout",
          "text": [
            "apple\n",
            "berry\n"
          ]
        }
      ]
    },
    {
      "cell_type": "code",
      "source": [
        "# for continue example"
      ],
      "metadata": {
        "id": "bKPYhmRSJs8s"
      },
      "execution_count": 8,
      "outputs": []
    },
    {
      "cell_type": "code",
      "source": [
        "for i in range (1,10):\n",
        "  if i==4:\n",
        "    continue\n",
        "  else:\n",
        "    print(i)"
      ],
      "metadata": {
        "colab": {
          "base_uri": "https://localhost:8080/"
        },
        "id": "XRf4RRWVJ64e",
        "outputId": "b98661a5-359b-4e88-9a53-78dae302dbaf"
      },
      "execution_count": 9,
      "outputs": [
        {
          "output_type": "stream",
          "name": "stdout",
          "text": [
            "1\n",
            "2\n",
            "3\n",
            "5\n",
            "6\n",
            "7\n",
            "8\n",
            "9\n"
          ]
        }
      ]
    },
    {
      "cell_type": "code",
      "source": [
        "for tup in (\"honey\",\"oats\",\"milk\"):\n",
        "  if tup == \"oats\":\n",
        "    continue\n",
        "  else:\n",
        "    print(tup)"
      ],
      "metadata": {
        "colab": {
          "base_uri": "https://localhost:8080/"
        },
        "id": "5FHOu-JtKK9K",
        "outputId": "35cb15c0-2c1b-4e22-c8da-a68898969d01"
      },
      "execution_count": 10,
      "outputs": [
        {
          "output_type": "stream",
          "name": "stdout",
          "text": [
            "honey\n",
            "milk\n"
          ]
        }
      ]
    },
    {
      "cell_type": "code",
      "source": [
        "# for break examples"
      ],
      "metadata": {
        "id": "oECis8fYMr1A"
      },
      "execution_count": 11,
      "outputs": []
    },
    {
      "cell_type": "code",
      "source": [
        "for i in range(1,34):\n",
        "  if i ==10:\n",
        "    break\n",
        "  else:\n",
        "    print(i)"
      ],
      "metadata": {
        "colab": {
          "base_uri": "https://localhost:8080/"
        },
        "id": "M6dHf3wIMvIM",
        "outputId": "7d1c452f-9583-4e2b-abdc-f6c9d813f992"
      },
      "execution_count": 12,
      "outputs": [
        {
          "output_type": "stream",
          "name": "stdout",
          "text": [
            "1\n",
            "2\n",
            "3\n",
            "4\n",
            "5\n",
            "6\n",
            "7\n",
            "8\n",
            "9\n"
          ]
        }
      ]
    },
    {
      "cell_type": "code",
      "source": [
        "for string in \"hello\":\n",
        "  if string ==\"o\":\n",
        "    break\n",
        "  else:\n",
        "    print(string)\n",
        ""
      ],
      "metadata": {
        "colab": {
          "base_uri": "https://localhost:8080/"
        },
        "id": "xCQjMalaM-Mt",
        "outputId": "ace44ddb-019a-4646-c426-1ae68f4c90d6"
      },
      "execution_count": 13,
      "outputs": [
        {
          "output_type": "stream",
          "name": "stdout",
          "text": [
            "h\n",
            "e\n",
            "l\n",
            "l\n"
          ]
        }
      ]
    },
    {
      "cell_type": "code",
      "source": [],
      "metadata": {
        "id": "mO7DdaUUNZkj"
      },
      "execution_count": null,
      "outputs": []
    }
  ]
}