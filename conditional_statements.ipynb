{
  "nbformat": 4,
  "nbformat_minor": 0,
  "metadata": {
    "colab": {
      "provenance": []
    },
    "kernelspec": {
      "name": "python3",
      "display_name": "Python 3"
    },
    "language_info": {
      "name": "python"
    }
  },
  "cells": [
    {
      "cell_type": "markdown",
      "source": [
        "CONDITIONAL STATEMENTS"
      ],
      "metadata": {
        "id": "ndy87JAF9kOR"
      }
    },
    {
      "cell_type": "code",
      "source": [
        "1. If Statement"
      ],
      "metadata": {
        "id": "MJMTaK9Z9wdT"
      },
      "execution_count": null,
      "outputs": []
    },
    {
      "cell_type": "code",
      "source": [
        "a = int(input(\"enter a number: \"))\n",
        "if  a > 0:\n",
        "  print(\"given number is positive\")"
      ],
      "metadata": {
        "colab": {
          "base_uri": "https://localhost:8080/"
        },
        "id": "ExZUVWgh93tg",
        "outputId": "f08272b1-443e-4f5b-feba-6cd4678f6286"
      },
      "execution_count": null,
      "outputs": [
        {
          "output_type": "stream",
          "name": "stdout",
          "text": [
            "enter a number: 33\n",
            "given number is positive\n"
          ]
        }
      ]
    },
    {
      "cell_type": "code",
      "source": [
        "2. If-else statement"
      ],
      "metadata": {
        "id": "3XG6KT6W-LYk"
      },
      "execution_count": null,
      "outputs": []
    },
    {
      "cell_type": "code",
      "source": [
        "a = int(input(\"enter your age\"))\n",
        "if a >=18:\n",
        "  print(\"you are eligible to vote\")\n",
        "else:\n",
        "  print(\"your are not eligible for vote\")"
      ],
      "metadata": {
        "colab": {
          "base_uri": "https://localhost:8080/"
        },
        "id": "X6dYcH8Q_JhO",
        "outputId": "2c588fd5-6b3c-4e7c-ce8d-97ffa599f188"
      },
      "execution_count": null,
      "outputs": [
        {
          "output_type": "stream",
          "name": "stdout",
          "text": [
            "enter your age18\n",
            "you are eligible to vote\n"
          ]
        }
      ]
    },
    {
      "cell_type": "code",
      "source": [
        "3. Elif statement"
      ],
      "metadata": {
        "id": "GpC7_78fVmFo"
      },
      "execution_count": null,
      "outputs": []
    },
    {
      "cell_type": "code",
      "source": [
        "a = int(input(\"enter a number:\"))\n",
        "if a > 0:\n",
        "  print(\"given number is positive\")\n",
        "elif a < 0:\n",
        "  print(\"given number is  negative\")\n",
        "else:\n",
        "  print(\"given number is zero\")"
      ],
      "metadata": {
        "colab": {
          "base_uri": "https://localhost:8080/"
        },
        "id": "Tj6V45sEVwlt",
        "outputId": "c141467b-8d00-480c-a4bc-7c771f4e68e4"
      },
      "execution_count": null,
      "outputs": [
        {
          "output_type": "stream",
          "name": "stdout",
          "text": [
            "enter a number:13\n",
            "given number is positive\n"
          ]
        }
      ]
    },
    {
      "cell_type": "code",
      "source": [
        "PRACTICE QUESTIONS"
      ],
      "metadata": {
        "id": "CnyY93abW0_5"
      },
      "execution_count": null,
      "outputs": []
    },
    {
      "cell_type": "code",
      "source": [
        "# WRITE A PYTHON PROGRAM TO FIND EVEN NUMBER ?"
      ],
      "metadata": {
        "id": "31xAhBK-W4U3"
      },
      "execution_count": null,
      "outputs": []
    },
    {
      "cell_type": "code",
      "source": [
        "a = int(input(\"enter a number:\"))\n",
        "if a%2 == 0:\n",
        "  print(\"a is even number\")\n",
        "else:\n",
        "  print(\"a is odd number\")"
      ],
      "metadata": {
        "colab": {
          "base_uri": "https://localhost:8080/"
        },
        "id": "3E8uiFIwYW4_",
        "outputId": "82c146de-b239-4032-d8ab-253f132b9066"
      },
      "execution_count": null,
      "outputs": [
        {
          "output_type": "stream",
          "name": "stdout",
          "text": [
            "enter a number:16\n",
            "a is even number\n"
          ]
        }
      ]
    },
    {
      "cell_type": "code",
      "source": [
        "# FIND MAXIMUM NUMBER AMONG THE THREE ?"
      ],
      "metadata": {
        "id": "Dp3zEpa0Y4LR"
      },
      "execution_count": null,
      "outputs": []
    },
    {
      "cell_type": "code",
      "source": [
        "a,b,c = 24,56,89\n",
        "if a>b and a>c:\n",
        "  print(\"a is maximum number\")\n",
        "elif b>a and b>c:\n",
        "  print(\"b is maximum number\")\n",
        "else:\n",
        "  print(\"c is maximum number\")"
      ],
      "metadata": {
        "colab": {
          "base_uri": "https://localhost:8080/"
        },
        "id": "fOQOB1V_ZAmd",
        "outputId": "bdf7eed1-21b1-47f5-aff0-aa52b231e0eb"
      },
      "execution_count": null,
      "outputs": [
        {
          "output_type": "stream",
          "name": "stdout",
          "text": [
            "c is maximum number\n"
          ]
        }
      ]
    },
    {
      "cell_type": "code",
      "source": [
        "# WRITE A PYTHON PROGRAM ABOUT GRADING SYSTEM ?"
      ],
      "metadata": {
        "id": "hj7e5UsoZzzx"
      },
      "execution_count": null,
      "outputs": []
    },
    {
      "cell_type": "code",
      "source": [
        "marks = int(input(\"enter your marks:\"))\n",
        "if marks >= 90:\n",
        "  print(\"your grade is A\")\n",
        "elif marks >= 80:\n",
        "  print(\"your grade is B\")\n",
        "elif marks >= 70:\n",
        "  print(\"your grade is C\")\n",
        "elif marks >= 60:\n",
        "   print (\"your grade is D\")\n",
        "else:\n",
        "  print(\"your grade is fail\")"
      ],
      "metadata": {
        "id": "Fadptxm3bxim",
        "colab": {
          "base_uri": "https://localhost:8080/"
        },
        "outputId": "959762a8-e3af-4ccc-cb0b-a4ce087ac918"
      },
      "execution_count": 8,
      "outputs": [
        {
          "output_type": "stream",
          "name": "stdout",
          "text": [
            "enter your marks:68\n",
            "your grade is D\n"
          ]
        }
      ]
    },
    {
      "cell_type": "code",
      "source": [
        "# WRITE A PYTHON PROGRAM TO FIND GIVEN CHAR ?"
      ],
      "metadata": {
        "id": "Hmc0MRnMrdzK"
      },
      "execution_count": null,
      "outputs": []
    },
    {
      "cell_type": "code",
      "source": [
        "char = input(\"enter a character:\")\n",
        "if char in \"aeiouAEIOU\" :\n",
        "  Print(\"given character is vowel\")\n",
        "else:\n",
        "  print(\"given character is not vowel\")"
      ],
      "metadata": {
        "colab": {
          "base_uri": "https://localhost:8080/"
        },
        "id": "ujNUi9u1vki9",
        "outputId": "2a289aef-05a3-4aa7-9a0d-47f8ee8e12ae"
      },
      "execution_count": 13,
      "outputs": [
        {
          "output_type": "stream",
          "name": "stdout",
          "text": [
            "enter a character:m\n",
            "given character is not vowel\n"
          ]
        }
      ]
    },
    {
      "cell_type": "code",
      "source": [],
      "metadata": {
        "id": "yZoDLnPEz13J"
      },
      "execution_count": null,
      "outputs": []
    }
  ]
}