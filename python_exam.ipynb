{
  "nbformat": 4,
  "nbformat_minor": 0,
  "metadata": {
    "colab": {
      "provenance": []
    },
    "kernelspec": {
      "name": "python3",
      "display_name": "Python 3"
    },
    "language_info": {
      "name": "python"
    }
  },
  "cells": [
    {
      "cell_type": "markdown",
      "source": [
        "# Q. WHAT IS PYTHON ?\n",
        " - Python is a programming language\n",
        " - it is easily understand by human language\n",
        " - it is connected to database\n",
        " - it is used to build in web applications"
      ],
      "metadata": {
        "id": "jZmN8Gd3IIts"
      }
    },
    {
      "cell_type": "code",
      "source": [],
      "metadata": {
        "id": "pwl77194Inpk"
      },
      "execution_count": null,
      "outputs": []
    },
    {
      "cell_type": "markdown",
      "source": [
        "# Q. WHAT ARE THE KEY FEATURES OF PYTHON ?\n",
        "-  Easy to learn\n",
        "- high level programming language\n",
        "- readability\n",
        "- simple to use"
      ],
      "metadata": {
        "id": "xF43QA9NIpKH"
      }
    },
    {
      "cell_type": "markdown",
      "source": [
        "# Q. HOW IS PYTHON DIFFERENT FROM OTHER PROGRAMMING LANGUAGES ?\n",
        "\n",
        "- Python's syntax is designed to be easy to read and write .it can easily understand to human beings and it is easy to use where as compared to other languages.python is excuted line by line."
      ],
      "metadata": {
        "id": "48xBfb6cJndZ"
      }
    },
    {
      "cell_type": "code",
      "source": [],
      "metadata": {
        "id": "9FcVtUGFK6OI"
      },
      "execution_count": null,
      "outputs": []
    },
    {
      "cell_type": "markdown",
      "source": [
        "# Q. WHAT ARE PYTHON DATA TYPES ?\n",
        "\n",
        "Python's datatypes are classified of two types\n",
        "- basic\n",
        "- advance\n",
        "\n",
        "basic\n",
        "- integer\n",
        "- float\n",
        "- complex\n",
        "- boolean\n",
        "\n",
        "\n",
        "advance\n",
        "- list\n",
        "- string\n",
        "- set\n",
        "- tuple\n",
        "- dicitionary"
      ],
      "metadata": {
        "id": "wmPfHiIYK8o3"
      }
    },
    {
      "cell_type": "markdown",
      "source": [
        "Q. WHAT IS THE DIFFERENCE BETWEEN LIST AND TUPLE ?\n",
        "\n",
        "LIST:\n",
        "- it is used to store collections of items\n",
        "- defined by using [ ]\n",
        "- it is mutable\n",
        "- it can be update ,modify,edit\n",
        "\n",
        "\n",
        "\n",
        "tuple:\n",
        "- it is also used to store collection of items\n",
        "- defined by using parenthes ( )\n",
        "- it is inmutable\n",
        "- it can't be update, modify,edit"
      ],
      "metadata": {
        "id": "r2VU5L6nL7eP"
      }
    },
    {
      "cell_type": "markdown",
      "source": [
        "Q. HOW DO YOU COMMENT IN PYTHON ?\n",
        "\n",
        "We use comments by using the symbols ' ' or \" \" or triple quatitions. and use hastags #"
      ],
      "metadata": {
        "id": "douid6IFNDh8"
      }
    },
    {
      "cell_type": "markdown",
      "source": [
        "Q. WHAT IS THE DIFFERENCE BETWEEN BREAK,CONTINUE AND PASS ?\n",
        "\n",
        "Break : it stops the sequence\n",
        "\n",
        "continue : skips the current and continues from there\n",
        "\n",
        "pass : it doesnt perform any function."
      ],
      "metadata": {
        "id": "q3rZ23n2N8R2"
      }
    },
    {
      "cell_type": "markdown",
      "source": [
        "Q.WHAT IS THE DIFFERENCE BETWEEN IS AND == ?\n",
        "-  IS : it is identity operator\n",
        "- used to compare identities not values\n",
        "\n",
        "==: equality operator\n",
        "- checks whther the values are equal or not\n"
      ],
      "metadata": {
        "id": "irasVEL_PxjU"
      }
    },
    {
      "cell_type": "markdown",
      "source": [
        "CODING QUESTIONS ?"
      ],
      "metadata": {
        "id": "0V4XJqArTMSH"
      }
    },
    {
      "cell_type": "code",
      "source": [
        "Q.PYTHON CODE TO REVERSE A STRING ?"
      ],
      "metadata": {
        "id": "OfULBLCTTRDl"
      },
      "execution_count": null,
      "outputs": []
    },
    {
      "cell_type": "code",
      "source": [
        "str = \"meghana\"\n",
        "print(str[::-1])"
      ],
      "metadata": {
        "colab": {
          "base_uri": "https://localhost:8080/"
        },
        "id": "s7UgUXvGY7-R",
        "outputId": "e65dd3de-bfb7-4175-9c1b-4e8fd16cfc54"
      },
      "execution_count": null,
      "outputs": [
        {
          "output_type": "stream",
          "name": "stdout",
          "text": [
            "anahgem\n"
          ]
        }
      ]
    },
    {
      "cell_type": "markdown",
      "source": [
        "Q.CHECK IF A NUMBER IS EVEN OR ODD ?"
      ],
      "metadata": {
        "id": "8ypTplu5ZU9r"
      }
    },
    {
      "cell_type": "code",
      "source": [
        "a = int(input(\"enter a number\"))\n",
        "if a%2==0:\n",
        "  print(\"even number\")\n",
        "else:\n",
        "  print(\"odd number\")"
      ],
      "metadata": {
        "colab": {
          "base_uri": "https://localhost:8080/"
        },
        "id": "qajNkeT9ZfpU",
        "outputId": "62dd6a34-074f-4606-d399-ff000ef4748f"
      },
      "execution_count": null,
      "outputs": [
        {
          "output_type": "stream",
          "name": "stdout",
          "text": [
            "enter a number15\n",
            "odd number\n"
          ]
        }
      ]
    },
    {
      "cell_type": "markdown",
      "source": [
        "Q.CHECK IF A STRING IS A PALINDROME ?"
      ],
      "metadata": {
        "id": "r_qoEOKUcUbW"
      }
    },
    {
      "cell_type": "code",
      "source": [
        "str = input(\"enter a string:\")\n",
        "str1 = str[::-1]\n",
        "if (str==str1):\n",
        "  print(\"palindrome\")\n",
        "else:\n",
        "  print(\"not palindrome\")"
      ],
      "metadata": {
        "id": "I2zYf065d6Sh",
        "colab": {
          "base_uri": "https://localhost:8080/"
        },
        "outputId": "0e6019a1-1438-418e-aca3-e76882e9f132"
      },
      "execution_count": 20,
      "outputs": [
        {
          "output_type": "stream",
          "name": "stdout",
          "text": [
            "enter a number:\n",
            "palindrome\n"
          ]
        }
      ]
    },
    {
      "cell_type": "markdown",
      "source": [
        "Q. CALCULATE THE FACTORIAL OF A NUMBER ?"
      ],
      "metadata": {
        "id": "0y18_E3_gLTP"
      }
    },
    {
      "cell_type": "code",
      "source": [
        "i = int(input(\"enter a number\"))\n",
        "fact=1\n",
        "while(i>0):\n",
        "  fact=fact*i\n",
        "  i=i-1\n",
        "  print(fact)"
      ],
      "metadata": {
        "colab": {
          "base_uri": "https://localhost:8080/"
        },
        "id": "4seeLzmhgStk",
        "outputId": "f32f6063-14ae-4c75-c655-f3ac127795c8"
      },
      "execution_count": 22,
      "outputs": [
        {
          "output_type": "stream",
          "name": "stdout",
          "text": [
            "enter a number6\n",
            "6\n",
            "30\n",
            "120\n",
            "360\n",
            "720\n",
            "720\n"
          ]
        }
      ]
    },
    {
      "cell_type": "markdown",
      "source": [
        "Q REMOVE DUPLICATES FROM A LIST?"
      ],
      "metadata": {
        "id": "LWs0tQlOhNOV"
      }
    },
    {
      "cell_type": "code",
      "source": [
        "list = [1,2,3,4,1,2,3,4]\n",
        "list.remove(1)\n",
        "list.remove(2)\n",
        "list.remove(3)\n",
        "list.remove(4)\n",
        "print(list)"
      ],
      "metadata": {
        "colab": {
          "base_uri": "https://localhost:8080/"
        },
        "id": "VHImXlqIg3f1",
        "outputId": "4fc75328-d4be-425f-e946-a06ad36eca95"
      },
      "execution_count": 23,
      "outputs": [
        {
          "output_type": "stream",
          "name": "stdout",
          "text": [
            "[1, 2, 3, 4]\n"
          ]
        }
      ]
    },
    {
      "cell_type": "markdown",
      "source": [
        "Q FIND THE COMMON ELEMENTS IN TWO LISTS?"
      ],
      "metadata": {
        "id": "ohzfpLnch3bo"
      }
    },
    {
      "cell_type": "code",
      "source": [
        "a = [12,34,23,67,56,5,8,3]\n",
        "b = [34,8,67,56,2,4,9,7]\n",
        "for i in a:\n",
        "  if i in b:\n",
        "    print(i)"
      ],
      "metadata": {
        "colab": {
          "base_uri": "https://localhost:8080/"
        },
        "id": "gduuoOoshzqC",
        "outputId": "15be06b7-d471-4709-de50-45bbdedc772b"
      },
      "execution_count": 24,
      "outputs": [
        {
          "output_type": "stream",
          "name": "stdout",
          "text": [
            "34\n",
            "67\n",
            "56\n",
            "8\n"
          ]
        }
      ]
    },
    {
      "cell_type": "code",
      "source": [],
      "metadata": {
        "id": "XUlXhnByiMtm"
      },
      "execution_count": null,
      "outputs": []
    }
  ]
}